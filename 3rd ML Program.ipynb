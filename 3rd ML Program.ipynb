{
 "cells": [
  {
   "cell_type": "markdown",
   "id": "7cc1cdc2-663a-4392-85eb-340d798f99de",
   "metadata": {},
   "source": [
    "THIRD MACHINE LEARNING PROGRAM: SVM EXAMPLE\n"
   ]
  },
  {
   "cell_type": "code",
   "execution_count": null,
   "id": "a1e46e76-0fd8-4ee6-872d-49fd114987db",
   "metadata": {},
   "outputs": [],
   "source": [
    "#Link to dataset is https://www.kaggle.com/datasets/paultimothymooney/blood-cells"
   ]
  },
  {
   "cell_type": "code",
   "execution_count": 36,
   "id": "e494a292-dab3-4502-8afc-0ec928199740",
   "metadata": {},
   "outputs": [
    {
     "data": {
      "text/plain": [
       "'2.12.0'"
      ]
     },
     "execution_count": 36,
     "metadata": {},
     "output_type": "execute_result"
    }
   ],
   "source": [
    "#Importing the necessary libraries\n",
    "import tensorflow as tf\n",
    "from tensorflow.keras.preprocessing.image import ImageDataGenerator\n",
    "from tensorflow.keras.layers import Conv2D\n",
    "from tensorflow.keras.layers import Dense\n",
    "from tensorflow.keras import Sequential\n",
    "from tensorflow.keras.layers import Conv2D,Dense,MaxPool2D,Flatten\n",
    "from tensorflow.keras.regularizers import l2\n",
    "tf.__version__"
   ]
  },
  {
   "cell_type": "code",
   "execution_count": 21,
   "id": "6697bac7-c346-4fde-8dfe-7c7aff81d346",
   "metadata": {},
   "outputs": [
    {
     "name": "stdout",
     "output_type": "stream",
     "text": [
      "Collecting split-folders\n",
      "  Downloading split_folders-0.5.1-py3-none-any.whl (8.4 kB)\n",
      "Installing collected packages: split-folders\n",
      "Successfully installed split-folders-0.5.1\n",
      "Note: you may need to restart the kernel to use updated packages.\n"
     ]
    },
    {
     "name": "stderr",
     "output_type": "stream",
     "text": [
      "WARNING: Ignoring invalid distribution -andas (c:\\users\\admin\\anaconda3\\lib\\site-packages)\n",
      "WARNING: Ignoring invalid distribution -andas (c:\\users\\admin\\anaconda3\\lib\\site-packages)\n",
      "WARNING: Ignoring invalid distribution -andas (c:\\users\\admin\\anaconda3\\lib\\site-packages)\n"
     ]
    }
   ],
   "source": [
    "pip install split-folders"
   ]
  },
  {
   "cell_type": "code",
   "execution_count": 37,
   "id": "d58b8cce-254b-4ffb-82bc-c3d462ec2bfe",
   "metadata": {},
   "outputs": [],
   "source": [
    "import splitfolders"
   ]
  },
  {
   "cell_type": "code",
   "execution_count": 38,
   "id": "938f724b-2376-4f00-958f-247a438c97e4",
   "metadata": {},
   "outputs": [],
   "source": [
    "input_folder = 'Cell images 1'"
   ]
  },
  {
   "cell_type": "code",
   "execution_count": 39,
   "id": "9517c218-7903-4502-8588-2f7e8d6a5425",
   "metadata": {},
   "outputs": [
    {
     "name": "stderr",
     "output_type": "stream",
     "text": [
      "Copying files: 436 files [00:00, 615.82 files/s]\n"
     ]
    }
   ],
   "source": [
    "#Splitting the images into training, testing and validation folders\n",
    "splitfolders.ratio(input_folder, output='Cell image 2',ratio=(.7, .2, .1),\n",
    "                  group_prefix=None)"
   ]
  },
  {
   "cell_type": "code",
   "execution_count": 40,
   "id": "eda5af79-e877-4bbd-8006-6a37df17e984",
   "metadata": {},
   "outputs": [
    {
     "name": "stdout",
     "output_type": "stream",
     "text": [
      "Found 305 images belonging to 2 classes.\n",
      "Found 44 images belonging to 2 classes.\n"
     ]
    }
   ],
   "source": [
    "#Conducting data argumentation \n",
    "train_dir = 'Cell image 2/train'\n",
    "test_dir = 'Cell image 2/test'\n",
    "train_datagen = ImageDataGenerator(rescale=(1/255.),shear_range = 0.2,zoom_range=0.2,\n",
    "                                   horizontal_flip=True)\n",
    "training_set = train_datagen.flow_from_directory(directory = train_dir,target_size=(64,64),\n",
    "                                                batch_size=32,\n",
    "                                                class_mode = \"binary\")\n",
    "test_datagen = ImageDataGenerator(rescale=(1/255.))\n",
    "test_set = test_datagen.flow_from_directory(directory = test_dir,target_size=(64,64),\n",
    "                                                batch_size=32,\n",
    "                                                class_mode = \"binary\")"
   ]
  },
  {
   "cell_type": "code",
   "execution_count": 41,
   "id": "4ba565e4-d932-4a05-bf80-0ec803a7778f",
   "metadata": {},
   "outputs": [],
   "source": [
    "#Building the SVM Model classifier\n",
    "model = Sequential()\n",
    "model.add(Conv2D(filters = 32, padding = \"same\",activation = \"relu\",kernel_size=3, strides = 2,input_shape=(64,64,3)))\n",
    "model.add(MaxPool2D(pool_size=(2,2),strides = 2))\n",
    "\n",
    "model.add(Conv2D(filters = 32, padding = \"same\",activation = \"relu\",kernel_size=3))\n",
    "model.add(MaxPool2D(pool_size=(2,2),strides = 2))\n",
    "\n",
    "model.add(Flatten())\n",
    "model.add(Dense(128,activation=\"relu\"))\n",
    "\n",
    "#Output layer\n",
    "model.add(Dense(1,kernel_regularizer=l2(0.01),activation = \"linear\"))"
   ]
  },
  {
   "cell_type": "code",
   "execution_count": 42,
   "id": "ff198dc9-bdfc-45a5-8246-df14a8759d79",
   "metadata": {},
   "outputs": [],
   "source": [
    "model.compile(optimizer = 'adam', loss = 'hinge', metrics = ['accuracy'])"
   ]
  },
  {
   "cell_type": "code",
   "execution_count": 43,
   "id": "967d4e33-0bae-43d4-8a5d-4a3b0d10cb0b",
   "metadata": {},
   "outputs": [
    {
     "name": "stdout",
     "output_type": "stream",
     "text": [
      "Epoch 1/15\n",
      "10/10 [==============================] - 4s 297ms/step - loss: 0.1073 - accuracy: 0.8951 - val_loss: 0.0183 - val_accuracy: 1.0000\n",
      "Epoch 2/15\n",
      "10/10 [==============================] - 1s 126ms/step - loss: 0.0177 - accuracy: 1.0000 - val_loss: 0.0170 - val_accuracy: 1.0000\n",
      "Epoch 3/15\n",
      "10/10 [==============================] - 1s 132ms/step - loss: 0.0165 - accuracy: 1.0000 - val_loss: 0.0158 - val_accuracy: 1.0000\n",
      "Epoch 4/15\n",
      "10/10 [==============================] - 2s 149ms/step - loss: 0.0153 - accuracy: 1.0000 - val_loss: 0.0147 - val_accuracy: 1.0000\n",
      "Epoch 5/15\n",
      "10/10 [==============================] - 2s 160ms/step - loss: 0.0142 - accuracy: 1.0000 - val_loss: 0.0137 - val_accuracy: 1.0000\n",
      "Epoch 6/15\n",
      "10/10 [==============================] - 1s 136ms/step - loss: 0.0133 - accuracy: 1.0000 - val_loss: 0.0127 - val_accuracy: 1.0000\n",
      "Epoch 7/15\n",
      "10/10 [==============================] - 1s 127ms/step - loss: 0.0123 - accuracy: 1.0000 - val_loss: 0.0119 - val_accuracy: 1.0000\n",
      "Epoch 8/15\n",
      "10/10 [==============================] - 1s 126ms/step - loss: 0.0115 - accuracy: 1.0000 - val_loss: 0.0111 - val_accuracy: 1.0000\n",
      "Epoch 9/15\n",
      "10/10 [==============================] - 1s 128ms/step - loss: 0.0108 - accuracy: 1.0000 - val_loss: 0.0103 - val_accuracy: 1.0000\n",
      "Epoch 10/15\n",
      "10/10 [==============================] - 1s 132ms/step - loss: 0.0100 - accuracy: 1.0000 - val_loss: 0.0097 - val_accuracy: 1.0000\n",
      "Epoch 11/15\n",
      "10/10 [==============================] - 1s 130ms/step - loss: 0.0094 - accuracy: 1.0000 - val_loss: 0.0091 - val_accuracy: 1.0000\n",
      "Epoch 12/15\n",
      "10/10 [==============================] - 1s 128ms/step - loss: 0.0088 - accuracy: 1.0000 - val_loss: 0.0085 - val_accuracy: 1.0000\n",
      "Epoch 13/15\n",
      "10/10 [==============================] - 1s 128ms/step - loss: 0.0083 - accuracy: 1.0000 - val_loss: 0.0080 - val_accuracy: 1.0000\n",
      "Epoch 14/15\n",
      "10/10 [==============================] - 1s 132ms/step - loss: 0.0078 - accuracy: 1.0000 - val_loss: 0.0076 - val_accuracy: 1.0000\n",
      "Epoch 15/15\n",
      "10/10 [==============================] - 1s 142ms/step - loss: 0.0074 - accuracy: 1.0000 - val_loss: 0.0071 - val_accuracy: 1.0000\n"
     ]
    }
   ],
   "source": [
    "#Training the model\n",
    "history = model.fit(x = training_set, validation_data = test_set, epochs=15)"
   ]
  }
 ],
 "metadata": {
  "kernelspec": {
   "display_name": "Python 3 (ipykernel)",
   "language": "python",
   "name": "python3"
  },
  "language_info": {
   "codemirror_mode": {
    "name": "ipython",
    "version": 3
   },
   "file_extension": ".py",
   "mimetype": "text/x-python",
   "name": "python",
   "nbconvert_exporter": "python",
   "pygments_lexer": "ipython3",
   "version": "3.9.12"
  }
 },
 "nbformat": 4,
 "nbformat_minor": 5
}
